{
 "cells": [
  {
   "cell_type": "code",
   "execution_count": 60,
   "id": "ff967bf7",
   "metadata": {},
   "outputs": [],
   "source": [
    "import pandas as pd\n",
    "import numpy as np\n",
    "import datetime\n",
    "import matplotlib.pyplot as plt\n",
    "import seaborn as sns\n",
    "import plotly.express as px\n",
    "from sklearn.linear_model import LinearRegression\n",
    "from sklearn.model_selection import train_test_split\n",
    "%matplotlib inline"
   ]
  },
  {
   "cell_type": "code",
   "execution_count": 61,
   "id": "19bb2471",
   "metadata": {},
   "outputs": [],
   "source": [
    "df_st = pd.read_csv('sea-surface.csv')"
   ]
  },
  {
   "cell_type": "code",
   "execution_count": 62,
   "id": "b602fe5d",
   "metadata": {},
   "outputs": [],
   "source": [
    "X = df_st.drop('Year', axis = 1)\n",
    "X = X.drop('Annual anomaly', axis = 1)\n",
    "Y = df_st[['Annual anomaly']]\n",
    "X_train, X_test, y_train, y_test = train_test_split(X, Y, test_size=0.50, random_state=10)"
   ]
  },
  {
   "cell_type": "code",
   "execution_count": 71,
   "id": "055a70c7",
   "metadata": {},
   "outputs": [
    {
     "data": {
      "text/plain": [
       "0.9997423018375298"
      ]
     },
     "execution_count": 71,
     "metadata": {},
     "output_type": "execute_result"
    }
   ],
   "source": [
    "regression_model.fit(X_train, y_train)\n",
    "y_prediction =  regression_model.predict(X_test)\n",
    "score = r2_score(y_test,y_prediction)\n",
    "score"
   ]
  },
  {
   "cell_type": "code",
   "execution_count": 72,
   "id": "afb47ea4",
   "metadata": {},
   "outputs": [],
   "source": [
    "svd = TruncatedSVD(n_components=1)\n",
    "x = svd.fit(X).transform(X)"
   ]
  },
  {
   "cell_type": "code",
   "execution_count": 73,
   "id": "3f262a65",
   "metadata": {},
   "outputs": [
    {
     "data": {
      "text/plain": [
       "LinearRegression()"
      ]
     },
     "execution_count": 73,
     "metadata": {},
     "output_type": "execute_result"
    }
   ],
   "source": [
    "X_train, X_test, y_train, y_test = train_test_split(x, Y, test_size=0.50, random_state=10)\n",
    "reg_reduction.fit(X_train, y_train)"
   ]
  },
  {
   "cell_type": "code",
   "execution_count": 74,
   "id": "2b27082e",
   "metadata": {},
   "outputs": [
    {
     "data": {
      "text/plain": [
       "0.9997423018375298"
      ]
     },
     "execution_count": 74,
     "metadata": {},
     "output_type": "execute_result"
    }
   ],
   "source": [
    "y_sec =  reg_reduction.predict(X_test)\n",
    "svd_score = r2_score(y_test,y_sec)\n",
    "svd_score"
   ]
  }
 ],
 "metadata": {
  "kernelspec": {
   "display_name": "Python 3 (ipykernel)",
   "language": "python",
   "name": "python3"
  },
  "language_info": {
   "codemirror_mode": {
    "name": "ipython",
    "version": 3
   },
   "file_extension": ".py",
   "mimetype": "text/x-python",
   "name": "python",
   "nbconvert_exporter": "python",
   "pygments_lexer": "ipython3",
   "version": "3.8.0"
  }
 },
 "nbformat": 4,
 "nbformat_minor": 5
}
