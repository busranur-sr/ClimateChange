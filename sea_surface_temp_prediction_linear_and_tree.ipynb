{
 "cells": [
  {
   "cell_type": "code",
   "execution_count": 90,
   "id": "ff967bf7",
   "metadata": {},
   "outputs": [],
   "source": [
    "import pandas as pd\n",
    "import numpy as np\n",
    "import datetime\n",
    "import matplotlib.pyplot as plt\n",
    "import seaborn as sns\n",
    "import plotly.express as px\n",
    "from sklearn.linear_model import LinearRegression\n",
    "from sklearn.model_selection import train_test_split\n",
    "from sklearn.tree import DecisionTreeRegressor\n",
    "%matplotlib inline\n",
    "pd.options.mode.chained_assignment = None  # default='warn'"
   ]
  },
  {
   "cell_type": "code",
   "execution_count": 156,
   "id": "19bb2471",
   "metadata": {},
   "outputs": [],
   "source": [
    "df=pd.read_csv(\"sea-surface.csv\")"
   ]
  },
  {
   "cell_type": "code",
   "execution_count": 157,
   "id": "b602fe5d",
   "metadata": {},
   "outputs": [
    {
     "data": {
      "text/plain": [
       "<function matplotlib.pyplot.show(close=None, block=None)>"
      ]
     },
     "execution_count": 157,
     "metadata": {},
     "output_type": "execute_result"
    },
    {
     "data": {
      "image/png": "[encoded data removed]",
      "text/plain": [
       "<Figure size 432x288 with 1 Axes>"
      ]
     },
     "metadata": {
      "needs_background": "light"
     },
     "output_type": "display_data"
    }
   ],
   "source": [
    "d= df[\"Year\"]\n",
    "y = df[\"Annual anomaly\"]\n",
    "plt.title('Temp/Year')\n",
    "plt.xlabel('Year')\n",
    "plt.ylabel('Temp')\n",
    "y=y.values.reshape(141,1)\n",
    "plt.plot(d,y)\n",
    "plt.show"
   ]
  },
  {
   "cell_type": "code",
   "execution_count": 158,
   "id": "055a70c7",
   "metadata": {},
   "outputs": [
    {
     "data": {
      "text/html": [
       "<div>\n",
       "<style scoped>\n",
       "    .dataframe tbody tr th:only-of-type {\n",
       "        vertical-align: middle;\n",
       "    }\n",
       "\n",
       "    .dataframe tbody tr th {\n",
       "        vertical-align: top;\n",
       "    }\n",
       "\n",
       "    .dataframe thead th {\n",
       "        text-align: right;\n",
       "    }\n",
       "</style>\n",
       "<table border=\"1\" class=\"dataframe\">\n",
       "  <thead>\n",
       "    <tr style=\"text-align: right;\">\n",
       "      <th></th>\n",
       "      <th>Annual anomaly</th>\n",
       "    </tr>\n",
       "  </thead>\n",
       "  <tbody>\n",
       "    <tr>\n",
       "      <th>0</th>\n",
       "      <td>-0.420</td>\n",
       "    </tr>\n",
       "    <tr>\n",
       "      <th>1</th>\n",
       "      <td>-0.330</td>\n",
       "    </tr>\n",
       "    <tr>\n",
       "      <th>2</th>\n",
       "      <td>-0.348</td>\n",
       "    </tr>\n",
       "    <tr>\n",
       "      <th>3</th>\n",
       "      <td>-0.456</td>\n",
       "    </tr>\n",
       "  </tbody>\n",
       "</table>\n",
       "</div>"
      ],
      "text/plain": [
       "   Annual anomaly\n",
       "0          -0.420\n",
       "1          -0.330\n",
       "2          -0.348\n",
       "3          -0.456"
      ]
     },
     "execution_count": 158,
     "metadata": {},
     "output_type": "execute_result"
    }
   ],
   "source": [
    "df=df[['Annual anomaly']]\n",
    "df.head(4)"
   ]
  },
  {
   "cell_type": "code",
   "execution_count": 188,
   "id": "afb47ea4",
   "metadata": {},
   "outputs": [
    {
     "data": {
      "text/html": [
       "<div>\n",
       "<style scoped>\n",
       "    .dataframe tbody tr th:only-of-type {\n",
       "        vertical-align: middle;\n",
       "    }\n",
       "\n",
       "    .dataframe tbody tr th {\n",
       "        vertical-align: top;\n",
       "    }\n",
       "\n",
       "    .dataframe thead th {\n",
       "        text-align: right;\n",
       "    }\n",
       "</style>\n",
       "<table border=\"1\" class=\"dataframe\">\n",
       "  <thead>\n",
       "    <tr style=\"text-align: right;\">\n",
       "      <th></th>\n",
       "      <th>Annual anomaly</th>\n",
       "      <th>Prediction</th>\n",
       "    </tr>\n",
       "  </thead>\n",
       "  <tbody>\n",
       "    <tr>\n",
       "      <th>137</th>\n",
       "      <td>0.822</td>\n",
       "      <td>NaN</td>\n",
       "    </tr>\n",
       "    <tr>\n",
       "      <th>138</th>\n",
       "      <td>0.732</td>\n",
       "      <td>NaN</td>\n",
       "    </tr>\n",
       "    <tr>\n",
       "      <th>139</th>\n",
       "      <td>0.876</td>\n",
       "      <td>NaN</td>\n",
       "    </tr>\n",
       "    <tr>\n",
       "      <th>140</th>\n",
       "      <td>0.840</td>\n",
       "      <td>NaN</td>\n",
       "    </tr>\n",
       "  </tbody>\n",
       "</table>\n",
       "</div>"
      ],
      "text/plain": [
       "     Annual anomaly  Prediction\n",
       "137           0.822         NaN\n",
       "138           0.732         NaN\n",
       "139           0.876         NaN\n",
       "140           0.840         NaN"
      ]
     },
     "execution_count": 188,
     "metadata": {},
     "output_type": "execute_result"
    }
   ],
   "source": [
    "future_days=15\n",
    "df['Prediction']=df[['Annual anomaly']].shift(-future_days)\n",
    "df.tail(4)"
   ]
  },
  {
   "cell_type": "code",
   "execution_count": 189,
   "id": "3f262a65",
   "metadata": {},
   "outputs": [
    {
     "name": "stdout",
     "output_type": "stream",
     "text": [
      "[[-0.42 ]\n",
      " [-0.33 ]\n",
      " [-0.348]\n",
      " [-0.456]\n",
      " [-0.582]\n",
      " [-0.69 ]\n",
      " [-0.672]\n",
      " [-0.726]\n",
      " [-0.402]\n",
      " [-0.402]\n",
      " [-0.816]\n",
      " [-0.546]\n",
      " [-0.654]\n",
      " [-0.726]\n",
      " [-0.762]\n",
      " [-0.564]\n",
      " [-0.33 ]\n",
      " [-0.42 ]\n",
      " [-0.708]\n",
      " [-0.6  ]\n",
      " [-0.438]\n",
      " [-0.636]\n",
      " [-0.762]\n",
      " [-1.014]\n",
      " [-1.158]\n",
      " [-0.798]\n",
      " [-0.762]\n",
      " [-0.87 ]\n",
      " [-1.104]\n",
      " [-1.176]\n",
      " [-1.14 ]\n",
      " [-1.122]\n",
      " [-0.87 ]\n",
      " [-0.942]\n",
      " [-0.69 ]\n",
      " [-0.564]\n",
      " [-0.87 ]\n",
      " [-0.96 ]\n",
      " [-0.726]\n",
      " [-0.798]\n",
      " [-0.78 ]\n",
      " [-0.744]\n",
      " [-0.834]\n",
      " [-0.816]\n",
      " [-0.834]\n",
      " [-0.762]\n",
      " [-0.6  ]\n",
      " [-0.708]\n",
      " [-0.78 ]\n",
      " [-0.87 ]\n",
      " [-0.636]\n",
      " [-0.582]\n",
      " [-0.726]\n",
      " [-0.798]\n",
      " [-0.708]\n",
      " [-0.708]\n",
      " [-0.636]\n",
      " [-0.474]\n",
      " [-0.6  ]\n",
      " [-0.492]\n",
      " [-0.15 ]\n",
      " [ 0.084]\n",
      " [-0.258]\n",
      " [-0.294]\n",
      " [ 0.012]\n",
      " [-0.024]\n",
      " [-0.492]\n",
      " [-0.546]\n",
      " [-0.618]\n",
      " [-0.564]\n",
      " [-0.564]\n",
      " [-0.42 ]\n",
      " [-0.312]\n",
      " [-0.312]\n",
      " [-0.6  ]\n",
      " [-0.636]\n",
      " [-0.564]\n",
      " [-0.222]\n",
      " [-0.204]\n",
      " [-0.294]\n",
      " [-0.312]\n",
      " [-0.276]\n",
      " [-0.294]\n",
      " [-0.276]\n",
      " [-0.546]\n",
      " [-0.474]\n",
      " [-0.384]\n",
      " [-0.42 ]\n",
      " [-0.384]\n",
      " [-0.096]\n",
      " [-0.294]\n",
      " [-0.51 ]\n",
      " [-0.186]\n",
      " [-0.15 ]\n",
      " [-0.42 ]\n",
      " [-0.438]\n",
      " [-0.366]\n",
      " [-0.078]\n",
      " [-0.186]\n",
      " [ 0.048]\n",
      " [ 0.066]\n",
      " [-0.006]\n",
      " [-0.006]\n",
      " [ 0.138]\n",
      " [-0.042]\n",
      " [-0.114]\n",
      " [-0.042]\n",
      " [ 0.21 ]\n",
      " [ 0.138]\n",
      " [ 0.066]\n",
      " [ 0.246]\n",
      " [ 0.192]\n",
      " [ 0.048]\n",
      " [ 0.048]\n",
      " [ 0.084]\n",
      " [ 0.174]\n",
      " [ 0.084]\n",
      " [ 0.354]\n",
      " [ 0.444]\n",
      " [ 0.084]\n",
      " [ 0.12 ]\n",
      " [ 0.354]\n",
      " [ 0.408]\n",
      " [ 0.462]\n",
      " [ 0.426]\n",
      " [ 0.426]]\n"
     ]
    }
   ],
   "source": [
    "X=np.array(df.drop(['Prediction'],axis=1))[:-future_days]\n",
    "print(X)"
   ]
  },
  {
   "cell_type": "code",
   "execution_count": 190,
   "id": "2b27082e",
   "metadata": {},
   "outputs": [
    {
     "name": "stdout",
     "output_type": "stream",
     "text": [
      "[-0.564 -0.33  -0.42  -0.708 -0.6   -0.438 -0.636 -0.762 -1.014 -1.158\n",
      " -0.798 -0.762 -0.87  -1.104 -1.176 -1.14  -1.122 -0.87  -0.942 -0.69\n",
      " -0.564 -0.87  -0.96  -0.726 -0.798 -0.78  -0.744 -0.834 -0.816 -0.834\n",
      " -0.762 -0.6   -0.708 -0.78  -0.87  -0.636 -0.582 -0.726 -0.798 -0.708\n",
      " -0.708 -0.636 -0.474 -0.6   -0.492 -0.15   0.084 -0.258 -0.294  0.012\n",
      " -0.024 -0.492 -0.546 -0.618 -0.564 -0.564 -0.42  -0.312 -0.312 -0.6\n",
      " -0.636 -0.564 -0.222 -0.204 -0.294 -0.312 -0.276 -0.294 -0.276 -0.546\n",
      " -0.474 -0.384 -0.42  -0.384 -0.096 -0.294 -0.51  -0.186 -0.15  -0.42\n",
      " -0.438 -0.366 -0.078 -0.186  0.048  0.066 -0.006 -0.006  0.138 -0.042\n",
      " -0.114 -0.042  0.21   0.138  0.066  0.246  0.192  0.048  0.048  0.084\n",
      "  0.174  0.084  0.354  0.444  0.084  0.12   0.354  0.408  0.462  0.426\n",
      "  0.426  0.426  0.3    0.264  0.498  0.516  0.318  0.444  0.48   0.642\n",
      "  0.858  0.93   0.822  0.732  0.876  0.84 ]\n"
     ]
    }
   ],
   "source": [
    "y=np.array(df['Prediction'])[:-future_days]\n",
    "print(y)"
   ]
  },
  {
   "cell_type": "code",
   "execution_count": 192,
   "id": "f817c43d",
   "metadata": {},
   "outputs": [],
   "source": [
    "x_train, x_test, y_train, y_test =train_test_split(X,y,test_size=0.25)\n"
   ]
  },
  {
   "cell_type": "code",
   "execution_count": 194,
   "id": "1e43ce86",
   "metadata": {},
   "outputs": [],
   "source": [
    "tree=DecisionTreeRegressor().fit(x_train,y_train)\n",
    "lr=LinearRegression().fit(x_train,y_train)"
   ]
  },
  {
   "cell_type": "code",
   "execution_count": 195,
   "id": "7b449c5e",
   "metadata": {},
   "outputs": [
    {
     "data": {
      "text/plain": [
       "array([[0.192],\n",
       "       [0.048],\n",
       "       [0.048],\n",
       "       [0.084],\n",
       "       [0.174],\n",
       "       [0.084],\n",
       "       [0.354],\n",
       "       [0.444],\n",
       "       [0.084],\n",
       "       [0.12 ],\n",
       "       [0.354],\n",
       "       [0.408],\n",
       "       [0.462],\n",
       "       [0.426],\n",
       "       [0.426]])"
      ]
     },
     "execution_count": 195,
     "metadata": {},
     "output_type": "execute_result"
    }
   ],
   "source": [
    "x_future=df.drop(['Prediction'],axis=1)[:-future_days]\n",
    "x_future=x_future.tail(future_days)\n",
    "x_future=np.array(x_future)\n",
    "x_future"
   ]
  },
  {
   "cell_type": "code",
   "execution_count": 196,
   "id": "8bb81fc9",
   "metadata": {},
   "outputs": [
    {
     "name": "stdout",
     "output_type": "stream",
     "text": [
      "[0.426 0.084 0.084 0.084 0.426 0.084 0.687 0.48  0.084 0.858 0.687 0.876\n",
      " 0.732 0.876 0.876]\n",
      "\n",
      "[0.29776639 0.15890701 0.15890701 0.19362186 0.28040897 0.19362186\n",
      " 0.4539832  0.54077031 0.19362186 0.2283367  0.4539832  0.50605546\n",
      " 0.55812773 0.52341289 0.52341289]\n"
     ]
    }
   ],
   "source": [
    "tree_prediction=tree.predict(x_future)\n",
    "print(tree_prediction)\n",
    "print()\n",
    "lr_prediction=lr.predict(x_future)\n",
    "print(lr_prediction)"
   ]
  },
  {
   "cell_type": "code",
   "execution_count": 200,
   "id": "d826c5c1",
   "metadata": {},
   "outputs": [
    {
     "data": {
      "text/plain": [
       "<matplotlib.legend.Legend at 0x1ca67c8cc10>"
      ]
     },
     "execution_count": 200,
     "metadata": {},
     "output_type": "execute_result"
    },
    {
     "data": {
      "image/png": "[encoded data removed]",
      "text/plain": [
       "<Figure size 432x288 with 1 Axes>"
      ]
     },
     "metadata": {
      "needs_background": "light"
     },
     "output_type": "display_data"
    }
   ],
   "source": [
    "prediction= tree_prediction\n",
    "valid = df[X.shape[0]:]\n",
    "valid['Predictions']= prediction\n",
    "plt.plot(df['Annual anomaly'])\n",
    "plt.plot(valid['Annual anomaly'])\n",
    "plt.plot(valid['Predictions'])\n",
    "plt.legend(['Original','Normal','Prediction'])"
   ]
  },
  {
   "cell_type": "code",
   "execution_count": 199,
   "id": "b6ca842c",
   "metadata": {},
   "outputs": [
    {
     "data": {
      "text/plain": [
       "<matplotlib.legend.Legend at 0x1ca67c1ba90>"
      ]
     },
     "execution_count": 199,
     "metadata": {},
     "output_type": "execute_result"
    },
    {
     "data": {
      "image/png": "[encoded data removed]",
      "text/plain": [
       "<Figure size 432x288 with 1 Axes>"
      ]
     },
     "metadata": {
      "needs_background": "light"
     },
     "output_type": "display_data"
    }
   ],
   "source": [
    "prediction= lr_prediction\n",
    "valid = df[X.shape[0]:]\n",
    "valid['Predictions']= prediction\n",
    "plt.plot(df['Annual anomaly'])\n",
    "plt.plot(valid['Annual anomaly'])\n",
    "plt.plot(valid['Predictions'])\n",
    "plt.legend(['Original','Normal','Prediction'])"
   ]
  }
 ],
 "metadata": {
  "kernelspec": {
   "display_name": "Python 3 (ipykernel)",
   "language": "python",
   "name": "python3"
  },
  "language_info": {
   "codemirror_mode": {
    "name": "ipython",
    "version": 3
   },
   "file_extension": ".py",
   "mimetype": "text/x-python",
   "name": "python",
   "nbconvert_exporter": "python",
   "pygments_lexer": "ipython3",
   "version": "3.8.0"
  }
 },
 "nbformat": 4,
 "nbformat_minor": 5
}
